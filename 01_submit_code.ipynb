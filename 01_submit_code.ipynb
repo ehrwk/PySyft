{
 "cells": [
  {
   "cell_type": "code",
   "execution_count": 2,
   "id": "a7bf760f-3678-44fd-8529-fd41392a0d32",
   "metadata": {
    "tags": []
   },
   "outputs": [
    {
     "name": "stdout",
     "output_type": "stream",
     "text": [
      "✅ The installed version of syft==0.8.0 matches the requirement >=0.8 and the requirement <0.8.1\n"
     ]
    }
   ],
   "source": [
    "import syft as sy\n",
    "sy.requires(\">=0.8,<0.8.1\")\n",
    "from syft.client.api import NodeView"
   ]
  },
  {
   "cell_type": "code",
   "execution_count": 3,
   "id": "9b68abf5-b640-4106-a864-0a0ed8311383",
   "metadata": {
    "tags": []
   },
   "outputs": [
    {
     "name": "stdout",
     "output_type": "stream",
     "text": [
      "Starting test-domain-1 server on 0.0.0.0:8080\n",
      "\n",
      "WARNING: private key is based on node name: test-domain-1 in dev_mode. Don't run this in production.\n",
      "SQLite Store Path:\n",
      "!open file:///var/folders/4s/vsgdjz495453yymsd09nx80c0000gn/T/7bca415d13ed1ec841f0d0aede098dbb.sqlite\n",
      "\n",
      "> Domain: test-domain-1 - 7bca415d13ed1ec841f0d0aede098dbb - NodeType.DOMAIN\n",
      "\n",
      "Services:\n",
      "ActionService\n",
      "DataSubjectMemberService\n",
      "DataSubjectService\n",
      "DatasetService\n",
      "MessageService\n",
      "MetadataService\n",
      "NetworkService\n",
      "PolicyService\n",
      "ProjectService\n",
      "RequestService\n",
      "UserCodeService\n",
      "UserService\n"
     ]
    },
    {
     "name": "stderr",
     "output_type": "stream",
     "text": [
      "INFO:     Started server process [2431]\n",
      "INFO:     Waiting for application startup.\n",
      "INFO:     Application startup complete.\n",
      "INFO:     Uvicorn running on http://0.0.0.0:8080 (Press CTRL+C to quit)\n"
     ]
    },
    {
     "name": "stdout",
     "output_type": "stream",
     "text": [
      "INFO:     127.0.0.1:49625 - \"GET /api/v1/new/metadata HTTP/1.1\" 200 OK\n",
      "INFO:     127.0.0.1:49628 - \"POST /api/v1/new/register HTTP/1.1\" 200 OK\n",
      "INFO:     127.0.0.1:49628 - \"GET /api/v1/new/api?verify_key=0f6e3c166aca10b61249a83e066c3e78dec5562a32b558bf641e0393b696b0cd HTTP/1.1\" 200 OK\n",
      "INFO:     127.0.0.1:49632 - \"POST /api/v1/new/login HTTP/1.1\" 200 OK\n",
      "INFO:     127.0.0.1:49632 - \"GET /api/v1/new/api?verify_key=0f6e3c166aca10b61249a83e066c3e78dec5562a32b558bf641e0393b696b0cd HTTP/1.1\" 200 OK\n",
      "INFO:     127.0.0.1:49636 - \"POST /api/v1/new/api_call HTTP/1.1\" 200 OK\n",
      "INFO:     127.0.0.1:49639 - \"POST /api/v1/new/api_call HTTP/1.1\" 200 OK\n",
      "INFO:     127.0.0.1:49642 - \"POST /api/v1/new/api_call HTTP/1.1\" 200 OK\n",
      "INFO:     127.0.0.1:49645 - \"GET /api/v1/new/metadata HTTP/1.1\" 200 OK\n",
      "INFO:     127.0.0.1:49648 - \"GET /api/v1/new/metadata HTTP/1.1\" 200 OK\n",
      "INFO:     127.0.0.1:49651 - \"POST /api/v1/new/api_call HTTP/1.1\" 200 OK\n",
      "INFO:     127.0.0.1:49654 - \"GET /api/v1/new/api?verify_key=0f6e3c166aca10b61249a83e066c3e78dec5562a32b558bf641e0393b696b0cd HTTP/1.1\" 200 OK\n",
      "INFO:     127.0.0.1:49657 - \"POST /api/v1/new/api_call HTTP/1.1\" 200 OK\n",
      "INFO:     127.0.0.1:49660 - \"POST /api/v1/new/api_call HTTP/1.1\" 200 OK\n",
      "INFO:     127.0.0.1:49663 - \"POST /api/v1/new/api_call HTTP/1.1\" 200 OK\n",
      "INFO:     127.0.0.1:49666 - \"POST /api/v1/new/api_call HTTP/1.1\" 200 OK\n",
      "INFO:     127.0.0.1:49669 - \"GET /api/v1/new/api?verify_key=0f6e3c166aca10b61249a83e066c3e78dec5562a32b558bf641e0393b696b0cd HTTP/1.1\" 200 OK\n",
      "INFO:     127.0.0.1:49672 - \"POST /api/v1/new/api_call HTTP/1.1\" 200 OK\n"
     ]
    },
    {
     "name": "stderr",
     "output_type": "stream",
     "text": [
      "INFO:     Shutting down\n",
      "INFO:     Waiting for application shutdown.\n",
      "INFO:     Application shutdown complete.\n",
      "INFO:     Finished server process [2431]\n"
     ]
    }
   ],
   "source": [
    "node = sy.orchestra.launch(name=\"test-domain-1\", port=8080, dev_mode=True)"
   ]
  },
  {
   "cell_type": "code",
   "execution_count": 4,
   "id": "8476e3eb-c6c5-43ab-b8d5-ef44944757d7",
   "metadata": {
    "tags": []
   },
   "outputs": [],
   "source": [
    "guest_domain_client = node.client"
   ]
  },
  {
   "cell_type": "code",
   "execution_count": 5,
   "id": "1ed5f198-de8e-4ba4-82e2-7de855a2c044",
   "metadata": {
    "tags": []
   },
   "outputs": [],
   "source": [
    "guest_credentials = guest_domain_client.credentials\n",
    "guest_credentials"
   ]
  },
  {
   "cell_type": "code",
   "execution_count": 6,
   "id": "b2485483-c969-4eb6-951b-a922e8bc9143",
   "metadata": {
    "tags": []
   },
   "outputs": [
    {
     "data": {
      "text/html": [
       "<div class=\"alert-success\" style=\"padding:5px;\"><strong>SyftSuccess</strong>: jane@caltech.edu User successfully registered !!!</div><br />"
      ],
      "text/plain": [
       "<class 'syft.service.response.SyftSuccess'>: jane@caltech.edu User successfully registered !!!"
      ]
     },
     "execution_count": 6,
     "metadata": {},
     "output_type": "execute_result"
    }
   ],
   "source": [
    "guest_domain_client.register(name=\"Jane Doe\", email=\"jane@caltech.edu\", password=\"abc123\", institution=\"Caltech\", website=\"https://www.caltech.edu/\")"
   ]
  },
  {
   "cell_type": "code",
   "execution_count": 7,
   "id": "eccdb6c8-b50a-4cbf-8f08-e1c1f659b461",
   "metadata": {
    "tags": []
   },
   "outputs": [
    {
     "data": {
      "text/plain": [
       "<SyftClient - test-domain-1 <7bca415d13ed1ec841f0d0aede098dbb>: HTTPConnection: http://localhost:8080>"
      ]
     },
     "execution_count": 7,
     "metadata": {},
     "output_type": "execute_result"
    }
   ],
   "source": [
    "guest_domain_client.login(email=\"jane@caltech.edu\", password=\"abc123\")"
   ]
  },
  {
   "cell_type": "code",
   "execution_count": 8,
   "id": "aa02bd98-ec1b-456a-af3e-5cc164f3898a",
   "metadata": {
    "tags": []
   },
   "outputs": [],
   "source": [
    "assert guest_domain_client.credentials != guest_credentials"
   ]
  },
  {
   "cell_type": "code",
   "execution_count": 9,
   "id": "81e62f9a-f07b-4e67-88fe-448851f6ed17",
   "metadata": {
    "tags": []
   },
   "outputs": [
    {
     "data": {
      "text/html": [
       "List - Size: 1\n",
       "<div>\n",
       "<style scoped>\n",
       "    .dataframe tbody tr th:only-of-type {\n",
       "        vertical-align: middle;\n",
       "    }\n",
       "\n",
       "    .dataframe tbody tr th {\n",
       "        vertical-align: top;\n",
       "    }\n",
       "\n",
       "    .dataframe thead th {\n",
       "        text-align: right;\n",
       "    }\n",
       "</style>\n",
       "<table border=\"1\" class=\"dataframe\">\n",
       "  <thead>\n",
       "    <tr style=\"text-align: right;\">\n",
       "      <th></th>\n",
       "      <th>type</th>\n",
       "      <th>id</th>\n",
       "      <th>name</th>\n",
       "      <th>url</th>\n",
       "    </tr>\n",
       "  </thead>\n",
       "  <tbody>\n",
       "    <tr>\n",
       "      <th>0</th>\n",
       "      <td>syft.service.dataset.dataset.Dataset</td>\n",
       "      <td>45895009a5be4261aa66e54b6701df0e</td>\n",
       "      <td>Canada Trade Value</td>\n",
       "      <td>https://github.com/OpenMined/datasets/tree/mai...</td>\n",
       "    </tr>\n",
       "  </tbody>\n",
       "</table>\n",
       "</div>"
      ],
      "text/plain": [
       "[syft.service.dataset.dataset.Dataset]"
      ]
     },
     "execution_count": 9,
     "metadata": {},
     "output_type": "execute_result"
    }
   ],
   "source": [
    "results = guest_domain_client.api.services.dataset.get_all()\n",
    "results"
   ]
  },
  {
   "cell_type": "code",
   "execution_count": 10,
   "id": "16ddbfb8-51fd-4079-8193-b77393aa6a25",
   "metadata": {
    "tags": []
   },
   "outputs": [],
   "source": [
    "assert len(results) == 1"
   ]
  },
  {
   "cell_type": "code",
   "execution_count": 11,
   "id": "a72c6858-d26e-4871-9527-e50584cd9ddd",
   "metadata": {
    "tags": []
   },
   "outputs": [],
   "source": [
    "dataset = results[-1]"
   ]
  },
  {
   "cell_type": "code",
   "execution_count": 12,
   "id": "433e556e-f41d-444d-bded-10f6d5a47cad",
   "metadata": {
    "tags": []
   },
   "outputs": [
    {
     "data": {
      "text/markdown": [
       "```python\n",
       "Syft Dataset: Canada Trade Value\n",
       "Assets:\n",
       "\tcanada_trade_flow: all the datas\n",
       "Citation: Person, place or thing\n",
       "URL: https://github.com/OpenMined/datasets/tree/main/trade_flow\n",
       "Description: Canada Trade Data\n",
       "\n",
       "```"
      ],
      "text/plain": [
       "syft.service.dataset.dataset.Dataset"
      ]
     },
     "execution_count": 12,
     "metadata": {},
     "output_type": "execute_result"
    }
   ],
   "source": [
    "dataset"
   ]
  },
  {
   "cell_type": "code",
   "execution_count": 13,
   "id": "8625aa3c-26d3-44c1-ab34-ac255bf18c2c",
   "metadata": {
    "tags": []
   },
   "outputs": [
    {
     "data": {
      "text/html": [
       "<div>\n",
       "<style scoped>\n",
       "    .dataframe tbody tr th:only-of-type {\n",
       "        vertical-align: middle;\n",
       "    }\n",
       "\n",
       "    .dataframe tbody tr th {\n",
       "        vertical-align: top;\n",
       "    }\n",
       "\n",
       "    .dataframe thead th {\n",
       "        text-align: right;\n",
       "    }\n",
       "</style>\n",
       "<table border=\"1\" class=\"dataframe\">\n",
       "  <thead>\n",
       "    <tr style=\"text-align: right;\">\n",
       "      <th></th>\n",
       "      <th>Classification</th>\n",
       "      <th>Year</th>\n",
       "      <th>Period</th>\n",
       "      <th>Period Desc.</th>\n",
       "      <th>Aggregate Level</th>\n",
       "      <th>Is Leaf Code</th>\n",
       "      <th>Trade Flow Code</th>\n",
       "      <th>Trade Flow</th>\n",
       "      <th>Reporter Code</th>\n",
       "      <th>Reporter</th>\n",
       "      <th>...</th>\n",
       "      <th>Partner</th>\n",
       "      <th>Partner ISO</th>\n",
       "      <th>Commodity Code</th>\n",
       "      <th>Commodity</th>\n",
       "      <th>Qty Unit Code</th>\n",
       "      <th>Qty Unit</th>\n",
       "      <th>Qty</th>\n",
       "      <th>Netweight (kg)</th>\n",
       "      <th>Trade Value (US$)</th>\n",
       "      <th>Flag</th>\n",
       "    </tr>\n",
       "  </thead>\n",
       "  <tbody>\n",
       "    <tr>\n",
       "      <th>10</th>\n",
       "      <td>HS</td>\n",
       "      <td>2021</td>\n",
       "      <td>202102</td>\n",
       "      <td>February 2021</td>\n",
       "      <td>2</td>\n",
       "      <td>0</td>\n",
       "      <td>1</td>\n",
       "      <td>Imports</td>\n",
       "      <td>124</td>\n",
       "      <td>Canada</td>\n",
       "      <td>...</td>\n",
       "      <td>Bangladesh</td>\n",
       "      <td>NaN</td>\n",
       "      <td>19</td>\n",
       "      <td>Preparations of cereals, flour, starch or milk...</td>\n",
       "      <td>0</td>\n",
       "      <td>NaN</td>\n",
       "      <td>NaN</td>\n",
       "      <td>0.0</td>\n",
       "      <td>227222</td>\n",
       "      <td>0</td>\n",
       "    </tr>\n",
       "    <tr>\n",
       "      <th>11</th>\n",
       "      <td>HS</td>\n",
       "      <td>2021</td>\n",
       "      <td>202102</td>\n",
       "      <td>February 2021</td>\n",
       "      <td>2</td>\n",
       "      <td>0</td>\n",
       "      <td>1</td>\n",
       "      <td>Imports</td>\n",
       "      <td>124</td>\n",
       "      <td>Canada</td>\n",
       "      <td>...</td>\n",
       "      <td>Haiti</td>\n",
       "      <td>NaN</td>\n",
       "      <td>19</td>\n",
       "      <td>Preparations of cereals, flour, starch or milk...</td>\n",
       "      <td>0</td>\n",
       "      <td>NaN</td>\n",
       "      <td>NaN</td>\n",
       "      <td>0.0</td>\n",
       "      <td>14748</td>\n",
       "      <td>0</td>\n",
       "    </tr>\n",
       "    <tr>\n",
       "      <th>12</th>\n",
       "      <td>HS</td>\n",
       "      <td>2021</td>\n",
       "      <td>202102</td>\n",
       "      <td>February 2021</td>\n",
       "      <td>2</td>\n",
       "      <td>0</td>\n",
       "      <td>1</td>\n",
       "      <td>Imports</td>\n",
       "      <td>124</td>\n",
       "      <td>Canada</td>\n",
       "      <td>...</td>\n",
       "      <td>Guatemala</td>\n",
       "      <td>NaN</td>\n",
       "      <td>19</td>\n",
       "      <td>Preparations of cereals, flour, starch or milk...</td>\n",
       "      <td>0</td>\n",
       "      <td>NaN</td>\n",
       "      <td>NaN</td>\n",
       "      <td>0.0</td>\n",
       "      <td>1314</td>\n",
       "      <td>0</td>\n",
       "    </tr>\n",
       "    <tr>\n",
       "      <th>13</th>\n",
       "      <td>HS</td>\n",
       "      <td>2021</td>\n",
       "      <td>202102</td>\n",
       "      <td>February 2021</td>\n",
       "      <td>2</td>\n",
       "      <td>0</td>\n",
       "      <td>1</td>\n",
       "      <td>Imports</td>\n",
       "      <td>124</td>\n",
       "      <td>Canada</td>\n",
       "      <td>...</td>\n",
       "      <td>Iraq</td>\n",
       "      <td>NaN</td>\n",
       "      <td>19</td>\n",
       "      <td>Preparations of cereals, flour, starch or milk...</td>\n",
       "      <td>0</td>\n",
       "      <td>NaN</td>\n",
       "      <td>NaN</td>\n",
       "      <td>0.0</td>\n",
       "      <td>1825</td>\n",
       "      <td>0</td>\n",
       "    </tr>\n",
       "    <tr>\n",
       "      <th>14</th>\n",
       "      <td>HS</td>\n",
       "      <td>2021</td>\n",
       "      <td>202102</td>\n",
       "      <td>February 2021</td>\n",
       "      <td>2</td>\n",
       "      <td>0</td>\n",
       "      <td>1</td>\n",
       "      <td>Imports</td>\n",
       "      <td>124</td>\n",
       "      <td>Canada</td>\n",
       "      <td>...</td>\n",
       "      <td>Israel</td>\n",
       "      <td>NaN</td>\n",
       "      <td>19</td>\n",
       "      <td>Preparations of cereals, flour, starch or milk...</td>\n",
       "      <td>0</td>\n",
       "      <td>NaN</td>\n",
       "      <td>NaN</td>\n",
       "      <td>0.0</td>\n",
       "      <td>1063627</td>\n",
       "      <td>0</td>\n",
       "    </tr>\n",
       "    <tr>\n",
       "      <th>15</th>\n",
       "      <td>HS</td>\n",
       "      <td>2021</td>\n",
       "      <td>202102</td>\n",
       "      <td>February 2021</td>\n",
       "      <td>2</td>\n",
       "      <td>0</td>\n",
       "      <td>1</td>\n",
       "      <td>Imports</td>\n",
       "      <td>124</td>\n",
       "      <td>Canada</td>\n",
       "      <td>...</td>\n",
       "      <td>Italy</td>\n",
       "      <td>NaN</td>\n",
       "      <td>19</td>\n",
       "      <td>Preparations of cereals, flour, starch or milk...</td>\n",
       "      <td>0</td>\n",
       "      <td>NaN</td>\n",
       "      <td>NaN</td>\n",
       "      <td>0.0</td>\n",
       "      <td>8359327</td>\n",
       "      <td>0</td>\n",
       "    </tr>\n",
       "    <tr>\n",
       "      <th>16</th>\n",
       "      <td>HS</td>\n",
       "      <td>2021</td>\n",
       "      <td>202102</td>\n",
       "      <td>February 2021</td>\n",
       "      <td>2</td>\n",
       "      <td>0</td>\n",
       "      <td>1</td>\n",
       "      <td>Imports</td>\n",
       "      <td>124</td>\n",
       "      <td>Canada</td>\n",
       "      <td>...</td>\n",
       "      <td>Jordan</td>\n",
       "      <td>NaN</td>\n",
       "      <td>19</td>\n",
       "      <td>Preparations of cereals, flour, starch or milk...</td>\n",
       "      <td>0</td>\n",
       "      <td>NaN</td>\n",
       "      <td>NaN</td>\n",
       "      <td>0.0</td>\n",
       "      <td>16858</td>\n",
       "      <td>0</td>\n",
       "    </tr>\n",
       "    <tr>\n",
       "      <th>17</th>\n",
       "      <td>HS</td>\n",
       "      <td>2021</td>\n",
       "      <td>202102</td>\n",
       "      <td>February 2021</td>\n",
       "      <td>2</td>\n",
       "      <td>0</td>\n",
       "      <td>1</td>\n",
       "      <td>Imports</td>\n",
       "      <td>124</td>\n",
       "      <td>Canada</td>\n",
       "      <td>...</td>\n",
       "      <td>Rep. of Moldova</td>\n",
       "      <td>NaN</td>\n",
       "      <td>19</td>\n",
       "      <td>Preparations of cereals, flour, starch or milk...</td>\n",
       "      <td>0</td>\n",
       "      <td>NaN</td>\n",
       "      <td>NaN</td>\n",
       "      <td>0.0</td>\n",
       "      <td>29897</td>\n",
       "      <td>0</td>\n",
       "    </tr>\n",
       "    <tr>\n",
       "      <th>18</th>\n",
       "      <td>HS</td>\n",
       "      <td>2021</td>\n",
       "      <td>202102</td>\n",
       "      <td>February 2021</td>\n",
       "      <td>2</td>\n",
       "      <td>0</td>\n",
       "      <td>1</td>\n",
       "      <td>Imports</td>\n",
       "      <td>124</td>\n",
       "      <td>Canada</td>\n",
       "      <td>...</td>\n",
       "      <td>Nigeria</td>\n",
       "      <td>NaN</td>\n",
       "      <td>19</td>\n",
       "      <td>Preparations of cereals, flour, starch or milk...</td>\n",
       "      <td>0</td>\n",
       "      <td>NaN</td>\n",
       "      <td>NaN</td>\n",
       "      <td>0.0</td>\n",
       "      <td>22235</td>\n",
       "      <td>0</td>\n",
       "    </tr>\n",
       "    <tr>\n",
       "      <th>19</th>\n",
       "      <td>HS</td>\n",
       "      <td>2021</td>\n",
       "      <td>202102</td>\n",
       "      <td>February 2021</td>\n",
       "      <td>2</td>\n",
       "      <td>0</td>\n",
       "      <td>1</td>\n",
       "      <td>Imports</td>\n",
       "      <td>124</td>\n",
       "      <td>Canada</td>\n",
       "      <td>...</td>\n",
       "      <td>Slovenia</td>\n",
       "      <td>NaN</td>\n",
       "      <td>19</td>\n",
       "      <td>Preparations of cereals, flour, starch or milk...</td>\n",
       "      <td>0</td>\n",
       "      <td>NaN</td>\n",
       "      <td>NaN</td>\n",
       "      <td>0.0</td>\n",
       "      <td>1328</td>\n",
       "      <td>0</td>\n",
       "    </tr>\n",
       "  </tbody>\n",
       "</table>\n",
       "<p>10 rows × 22 columns</p>\n",
       "</div>"
      ],
      "text/plain": [
       "   Classification  Year  Period   Period Desc.  Aggregate Level  Is Leaf Code  \\\n",
       "10             HS  2021  202102  February 2021                2             0   \n",
       "11             HS  2021  202102  February 2021                2             0   \n",
       "12             HS  2021  202102  February 2021                2             0   \n",
       "13             HS  2021  202102  February 2021                2             0   \n",
       "14             HS  2021  202102  February 2021                2             0   \n",
       "15             HS  2021  202102  February 2021                2             0   \n",
       "16             HS  2021  202102  February 2021                2             0   \n",
       "17             HS  2021  202102  February 2021                2             0   \n",
       "18             HS  2021  202102  February 2021                2             0   \n",
       "19             HS  2021  202102  February 2021                2             0   \n",
       "\n",
       "    Trade Flow Code Trade Flow  Reporter Code Reporter  ...          Partner  \\\n",
       "10                1    Imports            124   Canada  ...       Bangladesh   \n",
       "11                1    Imports            124   Canada  ...            Haiti   \n",
       "12                1    Imports            124   Canada  ...        Guatemala   \n",
       "13                1    Imports            124   Canada  ...             Iraq   \n",
       "14                1    Imports            124   Canada  ...           Israel   \n",
       "15                1    Imports            124   Canada  ...            Italy   \n",
       "16                1    Imports            124   Canada  ...           Jordan   \n",
       "17                1    Imports            124   Canada  ...  Rep. of Moldova   \n",
       "18                1    Imports            124   Canada  ...          Nigeria   \n",
       "19                1    Imports            124   Canada  ...         Slovenia   \n",
       "\n",
       "    Partner ISO Commodity Code  \\\n",
       "10          NaN             19   \n",
       "11          NaN             19   \n",
       "12          NaN             19   \n",
       "13          NaN             19   \n",
       "14          NaN             19   \n",
       "15          NaN             19   \n",
       "16          NaN             19   \n",
       "17          NaN             19   \n",
       "18          NaN             19   \n",
       "19          NaN             19   \n",
       "\n",
       "                                            Commodity Qty Unit Code Qty Unit  \\\n",
       "10  Preparations of cereals, flour, starch or milk...             0      NaN   \n",
       "11  Preparations of cereals, flour, starch or milk...             0      NaN   \n",
       "12  Preparations of cereals, flour, starch or milk...             0      NaN   \n",
       "13  Preparations of cereals, flour, starch or milk...             0      NaN   \n",
       "14  Preparations of cereals, flour, starch or milk...             0      NaN   \n",
       "15  Preparations of cereals, flour, starch or milk...             0      NaN   \n",
       "16  Preparations of cereals, flour, starch or milk...             0      NaN   \n",
       "17  Preparations of cereals, flour, starch or milk...             0      NaN   \n",
       "18  Preparations of cereals, flour, starch or milk...             0      NaN   \n",
       "19  Preparations of cereals, flour, starch or milk...             0      NaN   \n",
       "\n",
       "    Qty  Netweight (kg)  Trade Value (US$)  Flag  \n",
       "10  NaN             0.0             227222     0  \n",
       "11  NaN             0.0              14748     0  \n",
       "12  NaN             0.0               1314     0  \n",
       "13  NaN             0.0               1825     0  \n",
       "14  NaN             0.0            1063627     0  \n",
       "15  NaN             0.0            8359327     0  \n",
       "16  NaN             0.0              16858     0  \n",
       "17  NaN             0.0              29897     0  \n",
       "18  NaN             0.0              22235     0  \n",
       "19  NaN             0.0               1328     0  \n",
       "\n",
       "[10 rows x 22 columns]"
      ]
     },
     "execution_count": 13,
     "metadata": {},
     "output_type": "execute_result"
    }
   ],
   "source": [
    "mock = dataset.assets[0].mock\n",
    "mock"
   ]
  },
  {
   "cell_type": "code",
   "execution_count": 14,
   "id": "81643208-d31c-4495-9f19-e70303914a40",
   "metadata": {
    "tags": []
   },
   "outputs": [
    {
     "data": {
      "text/plain": [
       "9738381"
      ]
     },
     "execution_count": 14,
     "metadata": {},
     "output_type": "execute_result"
    }
   ],
   "source": [
    "mock[\"Trade Value (US$)\"].sum()"
   ]
  },
  {
   "cell_type": "code",
   "execution_count": 15,
   "id": "a8c090ee-d80a-40f2-aa64-d2f3ad6f8d3b",
   "metadata": {
    "tags": []
   },
   "outputs": [],
   "source": [
    "@sy.syft_function(input_policy=sy.ExactMatch(trade_data=mock),\n",
    "                  output_policy=sy.SingleExecutionExactOutput())\n",
    "def sum_trade_value_mil(trade_data):\n",
    "    import pandas as pd\n",
    "    from opendp.mod import enable_features\n",
    "    enable_features('contrib')\n",
    "    from opendp.measurements import make_base_laplace\n",
    "    aggregate = 0.\n",
    "    base_lap = make_base_laplace(scale=5.)\n",
    "    noise = base_lap(aggregate)\n",
    "\n",
    "    df = trade_data\n",
    "    total = df[\"Trade Value (US$)\"].sum()\n",
    "    return (float(total / 1_000_000), float(noise))"
   ]
  },
  {
   "cell_type": "code",
   "execution_count": 16,
   "id": "2972443f-4d6d-445d-b2de-53f8021dda20",
   "metadata": {
    "tags": []
   },
   "outputs": [
    {
     "data": {
      "text/plain": [
       "(9.738381, -0.4974763064977833)"
      ]
     },
     "execution_count": 16,
     "metadata": {},
     "output_type": "execute_result"
    }
   ],
   "source": [
    "result = sum_trade_value_mil(trade_data=mock)\n",
    "result"
   ]
  },
  {
   "cell_type": "code",
   "execution_count": 17,
   "id": "85366cf8-a11f-4a3c-b37c-192420e58b30",
   "metadata": {
    "tags": []
   },
   "outputs": [],
   "source": [
    "assert result[0] == 9.738381"
   ]
  },
  {
   "cell_type": "code",
   "execution_count": 18,
   "id": "8f694215-35a4-48cd-a4d7-b494c8ffec1f",
   "metadata": {
    "tags": []
   },
   "outputs": [],
   "source": [
    "assert isinstance(result[1], float)"
   ]
  },
  {
   "cell_type": "code",
   "execution_count": 19,
   "id": "e5cc015c-bbb2-4bd8-9167-247b9b8e52ba",
   "metadata": {
    "tags": []
   },
   "outputs": [],
   "source": [
    "assert len(sum_trade_value_mil.kwargs) == 1"
   ]
  },
  {
   "cell_type": "code",
   "execution_count": 20,
   "id": "f072cd2f-a0f4-4390-a18a-859730d5eaf5",
   "metadata": {
    "tags": []
   },
   "outputs": [],
   "source": [
    "node_view = NodeView.from_api(guest_domain_client.api)\n",
    "assert node_view in sum_trade_value_mil.kwargs"
   ]
  },
  {
   "cell_type": "code",
   "execution_count": 21,
   "id": "05410447-d024-497f-9694-c608ce3c2591",
   "metadata": {
    "tags": []
   },
   "outputs": [],
   "source": [
    "assert \"trade_data\" in sum_trade_value_mil.kwargs[node_view]"
   ]
  },
  {
   "cell_type": "code",
   "execution_count": 22,
   "id": "81ef89ad-7b1f-4be0-95ba-1fab412a42bd",
   "metadata": {
    "tags": []
   },
   "outputs": [],
   "source": [
    "assert sum_trade_value_mil.input_policy_init_kwargs[node_view][\"trade_data\"] == mock.id"
   ]
  },
  {
   "cell_type": "code",
   "execution_count": 23,
   "id": "85c259e0-f579-4559-9c5b-a360ca18915f",
   "metadata": {
    "tags": []
   },
   "outputs": [
    {
     "data": {
      "text/plain": [
       "'@sy.syft_function(input_policy=sy.ExactMatch(trade_data=mock),\\n                  output_policy=sy.SingleExecutionExactOutput())\\ndef sum_trade_value_mil(trade_data):\\n    import pandas as pd\\n    from opendp.mod import enable_features\\n    enable_features(\\'contrib\\')\\n    from opendp.measurements import make_base_laplace\\n    aggregate = 0.\\n    base_lap = make_base_laplace(scale=5.)\\n    noise = base_lap(aggregate)\\n\\n    df = trade_data\\n    total = df[\"Trade Value (US$)\"].sum()\\n    return (float(total / 1_000_000), float(noise))\\n'"
      ]
     },
     "execution_count": 23,
     "metadata": {},
     "output_type": "execute_result"
    }
   ],
   "source": [
    "sum_trade_value_mil.code"
   ]
  },
  {
   "cell_type": "code",
   "execution_count": 24,
   "id": "5c19e03a-3a44-4fce-ba47-601b2b17115b",
   "metadata": {
    "tags": []
   },
   "outputs": [
    {
     "data": {
      "text/markdown": [
       "```python\n",
       "class Request:\n",
       "  id: str = b5ffc627c0c84baab5c5f2605ced232f\n",
       "  requesting_user_verify_key: str = 0f6e3c166aca10b61249a83e066c3e78dec5562a32b558bf641e0393b696b0cd\n",
       "  approving_user_verify_key: str = None\n",
       "  request_time: str = 2023-05-01 23:21:05\n",
       "  approval_time: str = None\n",
       "  status: str = RequestStatus.PENDING\n",
       "  node_uid: str = 7bca415d13ed1ec841f0d0aede098dbb\n",
       "  request_hash: str = \"00a484606f6208f1df639141160ef980bb41a54dadf51d3a9e37adb092636874\"\n",
       "  changes: str = [syft.service.request.request.UserCodeStatusChange]\n",
       "\n",
       "```"
      ],
      "text/plain": [
       "syft.service.request.request.Request"
      ]
     },
     "execution_count": 24,
     "metadata": {},
     "output_type": "execute_result"
    }
   ],
   "source": [
    "guest_domain_client.api.services.code.request_code_execution(sum_trade_value_mil)"
   ]
  },
  {
   "cell_type": "code",
   "execution_count": 25,
   "id": "b06366b3-5dad-42c4-93fa-29f106869065",
   "metadata": {
    "tags": []
   },
   "outputs": [
    {
     "data": {
      "text/html": [
       "List - Size: 1\n",
       "<div>\n",
       "<style scoped>\n",
       "    .dataframe tbody tr th:only-of-type {\n",
       "        vertical-align: middle;\n",
       "    }\n",
       "\n",
       "    .dataframe tbody tr th {\n",
       "        vertical-align: top;\n",
       "    }\n",
       "\n",
       "    .dataframe thead th {\n",
       "        text-align: right;\n",
       "    }\n",
       "</style>\n",
       "<table border=\"1\" class=\"dataframe\">\n",
       "  <thead>\n",
       "    <tr style=\"text-align: right;\">\n",
       "      <th></th>\n",
       "      <th>type</th>\n",
       "      <th>id</th>\n",
       "      <th>status</th>\n",
       "      <th>service_func_name</th>\n",
       "    </tr>\n",
       "  </thead>\n",
       "  <tbody>\n",
       "    <tr>\n",
       "      <th>0</th>\n",
       "      <td>syft.service.code.user_code.UserCode</td>\n",
       "      <td>389ebef717184d07955c932d6c5a9195</td>\n",
       "      <td>{NodeView(node_name='test-domain-1', verify_ke...</td>\n",
       "      <td>sum_trade_value_mil</td>\n",
       "    </tr>\n",
       "  </tbody>\n",
       "</table>\n",
       "</div>"
      ],
      "text/plain": [
       "<syft.client.api.APIModule at 0x168a36850>"
      ]
     },
     "execution_count": 25,
     "metadata": {},
     "output_type": "execute_result"
    }
   ],
   "source": [
    "guest_domain_client.code"
   ]
  },
  {
   "cell_type": "code",
   "execution_count": 26,
   "id": "32296122-f777-420a-9d71-f63aa73d43b7",
   "metadata": {
    "tags": []
   },
   "outputs": [],
   "source": [
    "assert len(guest_domain_client.api.services.code.get_all()) == 1"
   ]
  },
  {
   "cell_type": "code",
   "execution_count": 27,
   "id": "38cfc4c1-1cb5-4c62-9cb5-2c41b046db8a",
   "metadata": {
    "tags": []
   },
   "outputs": [],
   "source": [
    "new_project = sy.Project(name=\"My Cool UN Project\")"
   ]
  },
  {
   "cell_type": "code",
   "execution_count": 28,
   "id": "b077424e-e9ca-4ff5-b1f2-de1e2d32cb40",
   "metadata": {
    "tags": []
   },
   "outputs": [],
   "source": [
    "proj_desc = \"\"\"Hi, I want to calculate the trade volume in million's with my cool code.\"\"\"\n",
    "new_project.set_description(proj_desc)"
   ]
  },
  {
   "cell_type": "code",
   "execution_count": 29,
   "id": "423c74a4-23bd-4abc-a766-509ba10e2a1d",
   "metadata": {
    "tags": []
   },
   "outputs": [],
   "source": [
    "submitted_code = guest_domain_client.code[0]"
   ]
  },
  {
   "cell_type": "code",
   "execution_count": 30,
   "id": "45888204-9c9c-4cd0-908d-c832b5fbae60",
   "metadata": {
    "tags": []
   },
   "outputs": [
    {
     "data": {
      "text/markdown": [
       "```python\n",
       "class UserCode:\n",
       "  id: str = 389ebef717184d07955c932d6c5a9195\n",
       "  node_uid: str = None\n",
       "  user_verify_key: str = 0f6e3c166aca10b61249a83e066c3e78dec5562a32b558bf641e0393b696b0cd\n",
       "  raw_code: str = \"@sy.syft_function(input_policy=sy.ExactMatch(trade_data=mock),\n",
       "                  output_policy=sy.SingleExecutionExactOutput())\n",
       "def sum_trade_value_mil(trade_data):\n",
       "    import pandas as pd\n",
       "    from opendp.mod import enable_features\n",
       "    enable_features('contrib')\n",
       "    from opendp.measurements import make_base_laplace\n",
       "    aggregate = 0.\n",
       "    base_lap = make_base_laplace(scale=5.)\n",
       "    noise = base_lap(aggregate)\n",
       "\n",
       "    df = trade_data\n",
       "    total = df[\"Trade Value (US$)\"].sum()\n",
       "    return (float(total / 1_000_000), float(noise))\n",
       "\"\n",
       "  input_policy_type: str = <class 'syft.service.policy.policy.ExactMatch'>\n",
       "  input_policy_init_kwargs: str = {NodeView(node_name='test-domain-1', verify_key=aec6ea4dfc049ceacaeeebc493167a88a200ddc367b1fa32da652444b635d21f): {'trade_data': <UID: f3e8e3c990904166a6466687a09dfb19>}}\n",
       "  input_policy_state: str = b''\n",
       "  output_policy_type: str = <class 'syft.service.policy.policy.OutputPolicyExecuteOnce'>\n",
       "  output_policy_init_kwargs: str = {}\n",
       "  output_policy_state: str = b''\n",
       "  parsed_code: str = \"def user_func_sum_trade_value_mil_0f6e3c166aca10b61249a83e066c3e78dec5562a32b558bf641e0393b696b0cd_5cd11d8bc44ba9ca10a6a7f1ce43e49dfbe8f969c6370ef5d062a6390d12a4a0(trade_data):\n",
       "\n",
       "    def sum_trade_value_mil(trade_data):\n",
       "        import pandas as pd\n",
       "        from opendp.mod import enable_features\n",
       "        enable_features('contrib')\n",
       "        from opendp.measurements import make_base_laplace\n",
       "        aggregate = 0.0\n",
       "        base_lap = make_base_laplace(scale=5.0)\n",
       "        noise = base_lap(aggregate)\n",
       "        df = trade_data\n",
       "        total = df['Trade Value (US$)'].sum()\n",
       "        return (float(total / 1000000), float(noise))\n",
       "    result = sum_trade_value_mil(trade_data=trade_data)\n",
       "    return result\"\n",
       "  service_func_name: str = \"sum_trade_value_mil\"\n",
       "  unique_func_name: str = \"user_func_sum_trade_value_mil_0f6e3c166aca10b61249a83e066c3e78dec5562a32b558bf641e0393b696b0cd_5cd11d8bc44ba9ca10a6a7f1ce43e49dfbe8f969c6370ef5d062a6390d12a4a0\"\n",
       "  user_unique_func_name: str = \"user_func_sum_trade_value_mil_0f6e3c166aca10b61249a83e066c3e78dec5562a32b558bf641e0393b696b0cd\"\n",
       "  code_hash: str = \"5cd11d8bc44ba9ca10a6a7f1ce43e49dfbe8f969c6370ef5d062a6390d12a4a0\"\n",
       "  signature: str = (trade_data)\n",
       "  status: str = {NodeView(node_name='test-domain-1', verify_key=aec6ea4dfc049ceacaeeebc493167a88a200ddc367b1fa32da652444b635d21f): <UserCodeStatus.SUBMITTED: 'submitted'>}\n",
       "  input_kwargs: str = ['trade_data']\n",
       "  enclave_metadata: str = None\n",
       "\n",
       "```"
      ],
      "text/plain": [
       "syft.service.code.user_code.UserCode"
      ]
     },
     "execution_count": 30,
     "metadata": {},
     "output_type": "execute_result"
    }
   ],
   "source": [
    "submitted_code"
   ]
  },
  {
   "cell_type": "code",
   "execution_count": 31,
   "id": "894959b3-bf01-42c7-939b-e649f08f79a0",
   "metadata": {
    "tags": []
   },
   "outputs": [],
   "source": [
    "new_project.add_request(obj=submitted_code, permission=sy.UserCodeStatus.EXECUTE)"
   ]
  },
  {
   "cell_type": "code",
   "execution_count": 32,
   "id": "a9bfddbb-9224-4667-bf8d-3fac674ff008",
   "metadata": {
    "tags": []
   },
   "outputs": [],
   "source": [
    "new_project.add_request(obj=submitted_code, permission=sy.UserCodeStatus.EXECUTE)"
   ]
  },
  {
   "cell_type": "code",
   "execution_count": 33,
   "id": "c5ba7994-7e17-4a70-9238-ab199553153c",
   "metadata": {
    "tags": []
   },
   "outputs": [
    {
     "data": {
      "text/html": [
       "List - Size: 2\n",
       "<div>\n",
       "<style scoped>\n",
       "    .dataframe tbody tr th:only-of-type {\n",
       "        vertical-align: middle;\n",
       "    }\n",
       "\n",
       "    .dataframe tbody tr th {\n",
       "        vertical-align: top;\n",
       "    }\n",
       "\n",
       "    .dataframe thead th {\n",
       "        text-align: right;\n",
       "    }\n",
       "</style>\n",
       "<table border=\"1\" class=\"dataframe\">\n",
       "  <thead>\n",
       "    <tr style=\"text-align: right;\">\n",
       "      <th></th>\n",
       "      <th>type</th>\n",
       "      <th>id</th>\n",
       "    </tr>\n",
       "  </thead>\n",
       "  <tbody>\n",
       "    <tr>\n",
       "      <th>0</th>\n",
       "      <td>syft.service.project.project.ObjectPermissionC...</td>\n",
       "      <td>53dac3b34a0b45478b8f4797a6d68565</td>\n",
       "    </tr>\n",
       "    <tr>\n",
       "      <th>1</th>\n",
       "      <td>syft.service.project.project.ObjectPermissionC...</td>\n",
       "      <td>77fab231444543ccad987954c46f10b9</td>\n",
       "    </tr>\n",
       "  </tbody>\n",
       "</table>\n",
       "</div>"
      ],
      "text/plain": [
       "[syft.service.project.project.ObjectPermissionChange,\n",
       " syft.service.project.project.ObjectPermissionChange]"
      ]
     },
     "execution_count": 33,
     "metadata": {},
     "output_type": "execute_result"
    }
   ],
   "source": [
    "new_project.changes"
   ]
  },
  {
   "cell_type": "code",
   "execution_count": 34,
   "id": "7316d557-88e5-4ca5-858a-e3a20f8cdbc7",
   "metadata": {
    "tags": []
   },
   "outputs": [
    {
     "data": {
      "text/markdown": [
       "```python\n",
       "class ProjectSubmit:\n",
       "  id: str = None\n",
       "  name: str = \"My Cool UN Project\"\n",
       "  description: str = \"Hi, I want to calculate the trade volume in million's with my cool code.\"\n",
       "  changes: str = [syft.service.project.project.ObjectPermissionChange, syft.service.project.project.ObjectPermissionChange]\n",
       "\n",
       "```"
      ],
      "text/plain": [
       "syft.service.project.project.ProjectSubmit"
      ]
     },
     "execution_count": 34,
     "metadata": {},
     "output_type": "execute_result"
    }
   ],
   "source": [
    "new_project"
   ]
  },
  {
   "cell_type": "code",
   "execution_count": 35,
   "id": "fd21d382-4aa0-454a-8cd2-b939fb115ad9",
   "metadata": {
    "tags": []
   },
   "outputs": [
    {
     "data": {
      "text/html": [
       "<div class=\"alert-success\" style=\"padding:5px;\"><strong>SyftSuccess</strong>: Project Submitted</div><br />"
      ],
      "text/plain": [
       "<class 'syft.service.response.SyftSuccess'>: Project Submitted"
      ]
     },
     "execution_count": 35,
     "metadata": {},
     "output_type": "execute_result"
    }
   ],
   "source": [
    "guest_domain_client.submit_project(new_project)"
   ]
  },
  {
   "cell_type": "code",
   "execution_count": 36,
   "id": "0ce4ec71-251b-44b6-a2e2-606b74db3a71",
   "metadata": {
    "tags": []
   },
   "outputs": [],
   "source": [
    "guest_domain_client._api = None\n",
    "_ = guest_domain_client.api"
   ]
  },
  {
   "cell_type": "code",
   "execution_count": 37,
   "id": "ce10c1cc-9558-43e8-b80f-dce1c68b9e87",
   "metadata": {
    "tags": []
   },
   "outputs": [
    {
     "data": {
      "text/html": [
       "<div class=\"alert-info\" style=\"padding:5px;\"><strong>SyftNotReady</strong>: <class 'syft.service.code.user_code.UserCode'> Your code is waiting for approval: {NodeView(node_name='test-domain-1', verify_key=aec6ea4dfc049ceacaeeebc493167a88a200ddc367b1fa32da652444b635d21f): <UserCodeStatus.SUBMITTED: 'submitted'>}</div><br />"
      ],
      "text/plain": [
       "<class 'syft.service.response.SyftNotReady'>: <class 'syft.service.code.user_code.UserCode'> Your code is waiting for approval: {NodeView(node_name='test-domain-1', verify_key=aec6ea4dfc049ceacaeeebc493167a88a200ddc367b1fa32da652444b635d21f): <UserCodeStatus.SUBMITTED: 'submitted'>}"
      ]
     },
     "execution_count": 37,
     "metadata": {},
     "output_type": "execute_result"
    }
   ],
   "source": [
    "result = guest_domain_client.api.services.code.sum_trade_value_mil(trade_data=mock.id)\n",
    "result"
   ]
  },
  {
   "cell_type": "code",
   "execution_count": 38,
   "id": "01ddb135-2dfa-4a0e-9df9-8121818cc74e",
   "metadata": {
    "tags": []
   },
   "outputs": [],
   "source": [
    "assert isinstance(result, sy.SyftNotReady)"
   ]
  },
  {
   "cell_type": "code",
   "execution_count": 39,
   "id": "3d9760e4-4c81-42ce-a627-acc3d22ce79c",
   "metadata": {
    "tags": []
   },
   "outputs": [
    {
     "name": "stdout",
     "output_type": "stream",
     "text": [
      "Stopping test-domain-1\n"
     ]
    }
   ],
   "source": [
    "if node.node_type.value == \"python\":\n",
    "    node.land()"
   ]
  },
  {
   "cell_type": "code",
   "execution_count": null,
   "id": "43efe826-e608-49c1-9e27-b5d4071ba064",
   "metadata": {},
   "outputs": [],
   "source": []
  }
 ],
 "metadata": {
  "kernelspec": {
   "display_name": "Python 3 (ipykernel)",
   "language": "python",
   "name": "python3"
  },
  "language_info": {
   "codemirror_mode": {
    "name": "ipython",
    "version": 3
   },
   "file_extension": ".py",
   "mimetype": "text/x-python",
   "name": "python",
   "nbconvert_exporter": "python",
   "pygments_lexer": "ipython3",
   "version": "3.9.16"
  }
 },
 "nbformat": 4,
 "nbformat_minor": 5
}
