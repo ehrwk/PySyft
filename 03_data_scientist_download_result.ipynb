{
 "cells": [
  {
   "cell_type": "code",
   "execution_count": 9,
   "id": "d1195772-d8b8-42d5-aa86-9087357391d8",
   "metadata": {
    "tags": []
   },
   "outputs": [
    {
     "name": "stdout",
     "output_type": "stream",
     "text": [
      "✅ The installed version of syft==0.8.0 matches the requirement >=0.8 and the requirement <0.8.1\n"
     ]
    }
   ],
   "source": [
    "import syft as sy\n",
    "sy.requires(\">=0.8,<0.8.1\")"
   ]
  },
  {
   "cell_type": "code",
   "execution_count": 10,
   "id": "ff1601b0-e130-47de-a658-5a6a35864b75",
   "metadata": {
    "tags": []
   },
   "outputs": [
    {
     "name": "stdout",
     "output_type": "stream",
     "text": [
      "Starting test-domain-1 server on 0.0.0.0:8080\n"
     ]
    },
    {
     "name": "stderr",
     "output_type": "stream",
     "text": [
      "It seems that the gevent monkey-patching is being used.\n",
      "Please set an environment variable with:\n",
      "GEVENT_SUPPORT=True\n",
      "to enable gevent support in the debugger.\n",
      "It seems that the gevent monkey-patching is being used.\n",
      "Please set an environment variable with:\n",
      "GEVENT_SUPPORT=True\n",
      "to enable gevent support in the debugger.\n",
      "It seems that the gevent monkey-patching is being used.\n",
      "Please set an environment variable with:\n",
      "GEVENT_SUPPORT=True\n",
      "to enable gevent support in the debugger.\n",
      "It seems that the gevent monkey-patching is being used.\n",
      "Please set an environment variable with:\n",
      "GEVENT_SUPPORT=True\n",
      "to enable gevent support in the debugger.\n",
      "It seems that the gevent monkey-patching is being used.\n",
      "Please set an environment variable with:\n",
      "GEVENT_SUPPORT=True\n",
      "to enable gevent support in the debugger.\n",
      "It seems that the gevent monkey-patching is being used.\n",
      "Please set an environment variable with:\n",
      "GEVENT_SUPPORT=True\n",
      "to enable gevent support in the debugger.\n",
      "It seems that the gevent monkey-patching is being used.\n",
      "Please set an environment variable with:\n",
      "GEVENT_SUPPORT=True\n",
      "to enable gevent support in the debugger.\n",
      "It seems that the gevent monkey-patching is being used.\n",
      "Please set an environment variable with:\n",
      "GEVENT_SUPPORT=True\n",
      "to enable gevent support in the debugger.\n",
      "It seems that the gevent monkey-patching is being used.\n",
      "Please set an environment variable with:\n",
      "GEVENT_SUPPORT=True\n",
      "to enable gevent support in the debugger.\n",
      "It seems that the gevent monkey-patching is being used.\n",
      "Please set an environment variable with:\n",
      "GEVENT_SUPPORT=True\n",
      "to enable gevent support in the debugger.\n",
      "It seems that the gevent monkey-patching is being used.\n",
      "Please set an environment variable with:\n",
      "GEVENT_SUPPORT=True\n",
      "to enable gevent support in the debugger.\n",
      "It seems that the gevent monkey-patching is being used.\n",
      "Please set an environment variable with:\n",
      "GEVENT_SUPPORT=True\n",
      "to enable gevent support in the debugger.\n",
      "It seems that the gevent monkey-patching is being used.\n",
      "Please set an environment variable with:\n",
      "GEVENT_SUPPORT=True\n",
      "to enable gevent support in the debugger.\n",
      "It seems that the gevent monkey-patching is being used.\n",
      "Please set an environment variable with:\n",
      "GEVENT_SUPPORT=True\n",
      "to enable gevent support in the debugger.\n",
      "It seems that the gevent monkey-patching is being used.\n",
      "Please set an environment variable with:\n",
      "GEVENT_SUPPORT=True\n",
      "to enable gevent support in the debugger.\n",
      "It seems that the gevent monkey-patching is being used.\n",
      "Please set an environment variable with:\n",
      "GEVENT_SUPPORT=True\n",
      "to enable gevent support in the debugger.\n",
      "It seems that the gevent monkey-patching is being used.\n",
      "Please set an environment variable with:\n",
      "GEVENT_SUPPORT=True\n",
      "to enable gevent support in the debugger.\n",
      "It seems that the gevent monkey-patching is being used.\n",
      "Please set an environment variable with:\n",
      "GEVENT_SUPPORT=True\n",
      "to enable gevent support in the debugger.\n",
      "It seems that the gevent monkey-patching is being used.\n",
      "Please set an environment variable with:\n",
      "GEVENT_SUPPORT=True\n",
      "to enable gevent support in the debugger.\n",
      "It seems that the gevent monkey-patching is being used.\n",
      "Please set an environment variable with:\n",
      "GEVENT_SUPPORT=True\n",
      "to enable gevent support in the debugger.\n",
      "It seems that the gevent monkey-patching is being used.\n",
      "Please set an environment variable with:\n",
      "GEVENT_SUPPORT=True\n",
      "to enable gevent support in the debugger.\n",
      "It seems that the gevent monkey-patching is being used.\n",
      "Please set an environment variable with:\n",
      "GEVENT_SUPPORT=True\n",
      "to enable gevent support in the debugger.\n",
      "It seems that the gevent monkey-patching is being used.\n",
      "Please set an environment variable with:\n",
      "GEVENT_SUPPORT=True\n",
      "to enable gevent support in the debugger.\n",
      "It seems that the gevent monkey-patching is being used.\n",
      "Please set an environment variable with:\n",
      "GEVENT_SUPPORT=True\n",
      "to enable gevent support in the debugger.\n",
      "It seems that the gevent monkey-patching is being used.\n",
      "Please set an environment variable with:\n",
      "GEVENT_SUPPORT=True\n",
      "to enable gevent support in the debugger.\n",
      "It seems that the gevent monkey-patching is being used.\n",
      "Please set an environment variable with:\n",
      "GEVENT_SUPPORT=True\n",
      "to enable gevent support in the debugger.\n"
     ]
    },
    {
     "name": "stdout",
     "output_type": "stream",
     "text": [
      "\n",
      "WARNING: private key is based on node name: test-domain-1 in dev_mode. Don't run this in production.\n",
      "SQLite Store Path:\n",
      "!open file:///var/folders/4s/vsgdjz495453yymsd09nx80c0000gn/T/7bca415d13ed1ec841f0d0aede098dbb.sqlite\n",
      "\n",
      "> Domain: test-domain-1 - 7bca415d13ed1ec841f0d0aede098dbb - NodeType.DOMAIN\n",
      "\n",
      "Services:\n",
      "ActionService\n",
      "DataSubjectMemberService\n",
      "DataSubjectService\n",
      "DatasetService\n",
      "MessageService\n",
      "MetadataService\n",
      "NetworkService\n",
      "PolicyService\n",
      "ProjectService\n",
      "RequestService\n",
      "UserCodeService\n",
      "UserService\n"
     ]
    },
    {
     "name": "stderr",
     "output_type": "stream",
     "text": [
      "INFO:     Started server process [3129]\n",
      "INFO:     Waiting for application startup.\n",
      "INFO:     Application startup complete.\n",
      "INFO:     Uvicorn running on http://0.0.0.0:8080 (Press CTRL+C to quit)\n"
     ]
    },
    {
     "name": "stdout",
     "output_type": "stream",
     "text": [
      "INFO:     127.0.0.1:49905 - \"GET /api/v1/new/metadata HTTP/1.1\" 200 OK\n",
      "INFO:     127.0.0.1:49905 - \"POST /api/v1/new/login HTTP/1.1\" 200 OK\n",
      "INFO:     127.0.0.1:49905 - \"GET /api/v1/new/api?verify_key=0f6e3c166aca10b61249a83e066c3e78dec5562a32b558bf641e0393b696b0cd HTTP/1.1\" 200 OK\n",
      "INFO:     127.0.0.1:49910 - \"POST /api/v1/new/api_call HTTP/1.1\" 200 OK\n",
      "INFO:     127.0.0.1:49914 - \"POST /api/v1/new/api_call HTTP/1.1\" 200 OK\n",
      "INFO:     127.0.0.1:49917 - \"POST /api/v1/new/api_call HTTP/1.1\" 200 OK\n"
     ]
    },
    {
     "name": "stderr",
     "output_type": "stream",
     "text": [
      "INFO:     Shutting down\n",
      "INFO:     Waiting for application shutdown.\n",
      "INFO:     Application shutdown complete.\n",
      "INFO:     Finished server process [3129]\n"
     ]
    }
   ],
   "source": [
    "node = sy.orchestra.launch(name=\"test-domain-1\", port=8080, dev_mode=True)"
   ]
  },
  {
   "cell_type": "code",
   "execution_count": 11,
   "id": "416b1579-7bb3-4a50-b11f-f11b3adf9244",
   "metadata": {
    "tags": []
   },
   "outputs": [],
   "source": [
    "domain_client = node.login(email=\"jane@caltech.edu\", password=\"abc123\")"
   ]
  },
  {
   "cell_type": "code",
   "execution_count": 12,
   "id": "3145c83a-e555-4c6a-9451-2554a000149b",
   "metadata": {
    "tags": []
   },
   "outputs": [
    {
     "data": {
      "text/markdown": [
       "```python\n",
       "Asset: canada_trade_flow\n",
       "Pointer Id: f3e8e3c990904166a6466687a09dfb19\n",
       "Description: all the datas\n",
       "Total Data Subjects: 1\n",
       "Shape: (10, 22)\n",
       "Contributors: 1\n",
       "\tAndrew Trask: andrew@openmined.org\n",
       "\n",
       "```"
      ],
      "text/plain": [
       "syft.service.dataset.dataset.Asset"
      ]
     },
     "execution_count": 12,
     "metadata": {},
     "output_type": "execute_result"
    }
   ],
   "source": [
    "asset = domain_client.datasets[0].assets[0]\n",
    "asset"
   ]
  },
  {
   "cell_type": "code",
   "execution_count": 13,
   "id": "b665a48e-888a-49d2-9c3c-e8ccd95e12ce",
   "metadata": {
    "tags": []
   },
   "outputs": [
    {
     "data": {
      "text/plain": [
       "(2.037066, 4.249859337131129)"
      ]
     },
     "execution_count": 13,
     "metadata": {},
     "output_type": "execute_result"
    }
   ],
   "source": [
    "real_result = domain_client.api.services.code.sum_trade_value_mil(trade_data=asset)\n",
    "real_result"
   ]
  },
  {
   "cell_type": "code",
   "execution_count": 14,
   "id": "1a17a264-2a4b-4a22-b30d-0e10de5ca5f5",
   "metadata": {
    "tags": []
   },
   "outputs": [
    {
     "data": {
      "text/plain": [
       "(2.037066, 4.249859337131129)"
      ]
     },
     "execution_count": 14,
     "metadata": {},
     "output_type": "execute_result"
    }
   ],
   "source": [
    "real_result"
   ]
  },
  {
   "cell_type": "code",
   "execution_count": 15,
   "id": "0bca4aa5-23fb-4451-bf54-9530a6bbec18",
   "metadata": {
    "tags": []
   },
   "outputs": [],
   "source": [
    "assert real_result[0] == 2.037066"
   ]
  },
  {
   "cell_type": "code",
   "execution_count": 16,
   "id": "3f6449ae-9805-44ae-992b-15918ecf54c9",
   "metadata": {
    "tags": []
   },
   "outputs": [
    {
     "data": {
      "text/markdown": [
       "```python\n",
       "class OutputPolicyExecuteOnce:\n",
       "  id: str = d78c4238249044a3a402fde2841853ce\n",
       "  init_kwargs: str = {}\n",
       "  output_history: str = [syft.service.policy.policy.OutputHistory]\n",
       "  output_kwargs: str = []\n",
       "  node_uid: str = None\n",
       "  count: str = 1\n",
       "  limit: str = 1\n",
       "\n",
       "```"
      ],
      "text/plain": [
       "syft.service.policy.policy.OutputPolicyExecuteOnce"
      ]
     },
     "execution_count": 16,
     "metadata": {},
     "output_type": "execute_result"
    }
   ],
   "source": [
    "ops = domain_client.api.services.code[-1].output_policy\n",
    "ops"
   ]
  },
  {
   "cell_type": "code",
   "execution_count": 17,
   "id": "72b34f5b-8adb-41a7-9d84-0038bd8ab146",
   "metadata": {
    "tags": []
   },
   "outputs": [],
   "source": [
    "assert isinstance(ops.valid, sy.SyftError)"
   ]
  },
  {
   "cell_type": "code",
   "execution_count": 18,
   "id": "6cfcb56d-86d1-46c7-90bf-feb4a1216b05",
   "metadata": {
    "tags": []
   },
   "outputs": [],
   "source": [
    "assert ops.count == 1"
   ]
  },
  {
   "cell_type": "code",
   "execution_count": 19,
   "id": "0eb4209e-3892-467c-b458-1112c7a119cc",
   "metadata": {
    "tags": []
   },
   "outputs": [
    {
     "name": "stdout",
     "output_type": "stream",
     "text": [
      "Stopping test-domain-1\n"
     ]
    }
   ],
   "source": [
    "if node.node_type.value == \"python\":\n",
    "    node.land()"
   ]
  },
  {
   "cell_type": "code",
   "execution_count": null,
   "id": "a6789e4a-ef74-416a-965c-b058127f7fcd",
   "metadata": {},
   "outputs": [],
   "source": []
  }
 ],
 "metadata": {
  "kernelspec": {
   "display_name": "Python 3 (ipykernel)",
   "language": "python",
   "name": "python3"
  },
  "language_info": {
   "codemirror_mode": {
    "name": "ipython",
    "version": 3
   },
   "file_extension": ".py",
   "mimetype": "text/x-python",
   "name": "python",
   "nbconvert_exporter": "python",
   "pygments_lexer": "ipython3",
   "version": "3.9.16"
  }
 },
 "nbformat": 4,
 "nbformat_minor": 5
}
